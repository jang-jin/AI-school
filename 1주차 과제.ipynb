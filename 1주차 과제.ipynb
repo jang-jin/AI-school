{
  "nbformat": 4,
  "nbformat_minor": 0,
  "metadata": {
    "colab": {
      "name": "1주차 과제.ipynb",
      "provenance": [],
      "collapsed_sections": [],
      "authorship_tag": "ABX9TyOlsoLrxt7gnTuyqX/GMI1f",
      "include_colab_link": true
    },
    "kernelspec": {
      "name": "python3",
      "display_name": "Python 3"
    }
  },
  "cells": [
    {
      "cell_type": "markdown",
      "metadata": {
        "id": "view-in-github",
        "colab_type": "text"
      },
      "source": [
        "<a href=\"https://colab.research.google.com/github/jang-jin/AI-school/blob/master/1%EC%A3%BC%EC%B0%A8%20%EA%B3%BC%EC%A0%9C.ipynb\" target=\"_parent\"><img src=\"https://colab.research.google.com/assets/colab-badge.svg\" alt=\"Open In Colab\"/></a>"
      ]
    },
    {
      "cell_type": "markdown",
      "metadata": {
        "id": "ZYjCfJy7AZn5",
        "colab_type": "text"
      },
      "source": [
        "# 언어, 음성, 이미지, 자율주행의 분야의 기술을 사용하는 4가지 제품 및 서비스\n",
        "\n",
        "\n",
        "## 1. 언어\n",
        "* 관심사 기반 뉴스 추천 '구글 뉴스'\n",
        "\n",
        "  ![구글 뉴스](https://www.emotion.co.kr/wp-content/uploads/2019/07/1-237x500.jpg)\n",
        "  * 실시간 주요 헤드라인과 개별 사용자의 지역 및 관심사를 기반으로 가장 많이 읽을 법한 뉴스 5개를 보여줌\n",
        "  * 실시간 뉴스 내용을 분석해 정보의 흐름을 일정하게 유지하는 스토리 라인을 구성해서 보여줌\n",
        "\n",
        "\n",
        "## 2. 음성\n",
        "* AI비서 '구글 어시스턴트'\n",
        "  \n",
        "  ![구글 어시스턴트](https://www.emotion.co.kr/wp-content/uploads/2019/07/2-282x500.jpg)\n",
        "  * 데일리 루틴 기능 지원\n",
        "  * 일상에서의 주요 상황(기상, 취침, 출퇴근에 따라 알람, IoT 디바이스 제어 등) 예약된 기능을 자동으로 수행\n",
        "  * 사용자 대신 전화를 걸어 식당 예약을 할 수 있도록 해주는 '듀플렉스 기술'을 적용하여 상용화를 시작\n",
        "\n",
        "\n",
        "## 3. 이미지\n",
        "* 얼굴 인식 AI 스피커 'Nest Hub Max'\n",
        "\n",
        "  ![Nest Hub Max](https://www.emotion.co.kr/wp-content/uploads/2019/07/%EA%B5%AC%EA%B8%80%EB%84%A4%EC%8A%A4%ED%8A%B8%ED%97%88%EB%B8%8C%EB%A7%A5%EC%8A%A4-1024x576.png)\n",
        "  * 최대 6명까지 인식하고 각자에게 맞춤형 정보를 제공\n",
        "  * 인식된 사용자의 얼굴과 사용 상황을 기반으로 사용자가 원하는 시간대에 원하는 행동에 맞추어 정보를 제공\n",
        "\n",
        "\n",
        "## 4. 자율주행\n",
        "* 운전자의 주행성향에 맞는 부분 자율주행 구현기술 'SCC-ML'\n",
        "\n",
        "  ![SCC-ML](http://www.aitimes.kr/news/photo/201910/14500_15320_3736.jpg)\n",
        "  * 전방카메라, 레이더 등의 센서가 다양한 운전상황에서 발생되는 정보로부터 운전자의 주행습관을 추출해 종합적인 주행성향(앞차와의 거리, 가속성, 반응성)을 파악\n",
        "  * 자동 차로 변경 기능을 포함하고 있는 HDA Il와 함께 적용돼 자율주행 레벨 2.5 수준을 구현\n",
        "\n",
        "\n",
        "# **인공지능 사관학교를 수료할 때까지 나의 목표**\n",
        "\n",
        "### 딥러닝을 활용하여 언어, 음성, 이미지, 자율주행 분야 중 하나의 개인 프로젝트를 완성할 것!\n"
      ]
    }
  ]
}